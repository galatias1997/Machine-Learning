{
 "cells": [
  {
   "cell_type": "code",
   "execution_count": 1,
   "id": "7206f836-ddfa-4e19-9eb8-e73adf905e67",
   "metadata": {},
   "outputs": [],
   "source": [
    "import pandas as pd\n",
    "import numpy as np\n",
    "from sklearn.model_selection import train_test_split\n",
    "from sklearn.preprocessing import LabelEncoder\n",
    "from sklearn.tree import DecisionTreeClassifier\n",
    "from sklearn.metrics import accuracy_score, classification_report, confusion_matrix"
   ]
  },
  {
   "cell_type": "code",
   "execution_count": 2,
   "id": "0df436d8-e41a-457e-bfb2-9a66f77f36bf",
   "metadata": {},
   "outputs": [],
   "source": [
    "# Load training data\n",
    "train_df = pd.read_csv('churn_train.csv')"
   ]
  },
  {
   "cell_type": "code",
   "execution_count": 3,
   "id": "eef0e40f-23a7-479a-aa64-81dfca8ef051",
   "metadata": {},
   "outputs": [],
   "source": [
    "def preprocess_data(df):\n",
    "    df = df.copy()\n",
    "    \n",
    "    # Convert categorical columns to numerical values\n",
    "    label_encoders = {}\n",
    "    categorical_columns = ['State', 'International plan', 'Voice mail plan', 'Churn']\n",
    "    \n",
    "    for col in categorical_columns:\n",
    "        le = LabelEncoder()\n",
    "        df[col] = le.fit_transform(df[col])\n",
    "        label_encoders[col] = le\n",
    "    \n",
    "    return df, label_encoders"
   ]
  },
  {
   "cell_type": "code",
   "execution_count": 4,
   "id": "29e7c15c-c287-4772-893f-6a437b29f614",
   "metadata": {},
   "outputs": [],
   "source": [
    "# Preprocess training data\n",
    "train_df, label_encoders = preprocess_data(train_df)"
   ]
  },
  {
   "cell_type": "code",
   "execution_count": 5,
   "id": "200b51dc-b480-4798-83dd-a20691306bb3",
   "metadata": {},
   "outputs": [],
   "source": [
    "# Split features and target\n",
    "X_train = train_df.drop(columns=['Churn'])\n",
    "y_train = train_df['Churn']"
   ]
  },
  {
   "cell_type": "code",
   "execution_count": 6,
   "id": "c5276bc4-35cf-49e5-8dea-f794d5efa67e",
   "metadata": {},
   "outputs": [
    {
     "data": {
      "text/plain": [
       "DecisionTreeClassifier(random_state=42)"
      ]
     },
     "execution_count": 6,
     "metadata": {},
     "output_type": "execute_result"
    }
   ],
   "source": [
    "# Train Decision Tree model\n",
    "dt_model = DecisionTreeClassifier(random_state=42)\n",
    "dt_model.fit(X_train, y_train)"
   ]
  },
  {
   "cell_type": "code",
   "execution_count": 7,
   "id": "75376ba2-657e-461b-9501-82c25027b0a2",
   "metadata": {},
   "outputs": [],
   "source": [
    "# Load test data\n",
    "test_df = pd.read_csv('churn_test.csv')"
   ]
  },
  {
   "cell_type": "code",
   "execution_count": 8,
   "id": "a265afce-53b4-4ec1-9f8e-ff5e02941683",
   "metadata": {},
   "outputs": [],
   "source": [
    "# Preprocess test data using the same label encoders\n",
    "def preprocess_test_data(df, label_encoders):\n",
    "    df = df.copy()\n",
    "    for col in label_encoders:\n",
    "        df[col] = label_encoders[col].transform(df[col])\n",
    "    return df"
   ]
  },
  {
   "cell_type": "code",
   "execution_count": 9,
   "id": "203fb7a9-c923-4dd9-84a4-7772124909ed",
   "metadata": {},
   "outputs": [],
   "source": [
    "test_df = preprocess_test_data(test_df, label_encoders)"
   ]
  },
  {
   "cell_type": "code",
   "execution_count": 10,
   "id": "4a29c6a1-5130-4f41-806c-2b3ece8d6d42",
   "metadata": {},
   "outputs": [],
   "source": [
    "# Split features and target in test data\n",
    "X_test = test_df.drop(columns=['Churn'])\n",
    "y_test = test_df['Churn']"
   ]
  },
  {
   "cell_type": "code",
   "execution_count": 11,
   "id": "c1cf43b1-2422-4135-8eb2-3d8356afee84",
   "metadata": {},
   "outputs": [],
   "source": [
    "# Predict using trained model\n",
    "y_pred = dt_model.predict(X_test)"
   ]
  },
  {
   "cell_type": "code",
   "execution_count": 12,
   "id": "b3936b84-ea35-4a73-a5a8-9d00756dfef5",
   "metadata": {},
   "outputs": [
    {
     "name": "stdout",
     "output_type": "stream",
     "text": [
      "Accuracy: 0.9175\n",
      "Classification Report:\n",
      "               precision    recall  f1-score   support\n",
      "\n",
      "           0       0.95      0.95      0.95       572\n",
      "           1       0.70      0.73      0.72        95\n",
      "\n",
      "    accuracy                           0.92       667\n",
      "   macro avg       0.83      0.84      0.83       667\n",
      "weighted avg       0.92      0.92      0.92       667\n",
      "\n",
      "Confusion Matrix:\n",
      " [[543  29]\n",
      " [ 26  69]]\n"
     ]
    }
   ],
   "source": [
    "# Evaluate model\n",
    "accuracy = accuracy_score(y_test, y_pred)\n",
    "print(f'Accuracy: {accuracy:.4f}')\n",
    "print('Classification Report:\\n', classification_report(y_test, y_pred))\n",
    "print('Confusion Matrix:\\n', confusion_matrix(y_test, y_pred))"
   ]
  },
  {
   "cell_type": "code",
   "execution_count": null,
   "id": "280c2ce6-3664-4c78-9dcc-6d81fb345576",
   "metadata": {},
   "outputs": [],
   "source": []
  }
 ],
 "metadata": {
  "kernelspec": {
   "display_name": "py3",
   "language": "python",
   "name": "py3"
  },
  "language_info": {
   "codemirror_mode": {
    "name": "ipython",
    "version": 3
   },
   "file_extension": ".py",
   "mimetype": "text/x-python",
   "name": "python",
   "nbconvert_exporter": "python",
   "pygments_lexer": "ipython3",
   "version": "3.10.2"
  }
 },
 "nbformat": 4,
 "nbformat_minor": 5
}
