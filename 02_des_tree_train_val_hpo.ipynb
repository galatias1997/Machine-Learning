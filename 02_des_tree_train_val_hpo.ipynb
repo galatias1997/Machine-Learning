{
 "cells": [
  {
   "cell_type": "code",
   "execution_count": 1,
   "id": "429b21ba-71bf-4ad0-8310-c78e75cf4aea",
   "metadata": {},
   "outputs": [],
   "source": [
    "import pandas as pd\n",
    "import numpy as np\n",
    "from sklearn.model_selection import train_test_split, GridSearchCV\n",
    "from sklearn.preprocessing import LabelEncoder\n",
    "from sklearn.tree import DecisionTreeClassifier\n",
    "from sklearn.metrics import accuracy_score, classification_report, confusion_matrix"
   ]
  },
  {
   "cell_type": "code",
   "execution_count": 3,
   "id": "e84fc9f4-c7f1-4398-9fa8-03905509e570",
   "metadata": {},
   "outputs": [],
   "source": [
    "# Load training data\n",
    "train_df = pd.read_csv('churn_train.csv')"
   ]
  },
  {
   "cell_type": "code",
   "execution_count": 4,
   "id": "be09aa49-a068-414e-82c9-e06165bfe9f4",
   "metadata": {},
   "outputs": [],
   "source": [
    "def preprocess_data(df):\n",
    "    df = df.copy()\n",
    "    \n",
    "    # Convert categorical columns to numerical values\n",
    "    label_encoders = {}\n",
    "    categorical_columns = ['State', 'International plan', 'Voice mail plan', 'Churn']\n",
    "    \n",
    "    for col in categorical_columns:\n",
    "        le = LabelEncoder()\n",
    "        df[col] = le.fit_transform(df[col])\n",
    "        label_encoders[col] = le\n",
    "    \n",
    "    return df, label_encoders"
   ]
  },
  {
   "cell_type": "code",
   "execution_count": 5,
   "id": "fe990e0c-34e0-4da3-9ec2-2b1cafa5bd32",
   "metadata": {},
   "outputs": [],
   "source": [
    "# Preprocess training data\n",
    "train_df, label_encoders = preprocess_data(train_df)"
   ]
  },
  {
   "cell_type": "code",
   "execution_count": 6,
   "id": "0af297c6-641c-42c3-ba35-e6c3df6d6e69",
   "metadata": {},
   "outputs": [],
   "source": [
    "# Split data into train and validation sets\n",
    "X = train_df.drop(columns=['Churn'])\n",
    "y = train_df['Churn']\n",
    "X_train, X_val, y_train, y_val = train_test_split(X, y, test_size=0.2, random_state=42)"
   ]
  },
  {
   "cell_type": "code",
   "execution_count": 7,
   "id": "a691ffc6-6bc6-4b9a-8691-2d5d0c931fe4",
   "metadata": {},
   "outputs": [],
   "source": [
    "# Define hyperparameter grid\n",
    "param_grid = {\n",
    "    'max_depth': [3, 5, 10, None],\n",
    "    'min_samples_split': [2, 5, 10],\n",
    "    'min_samples_leaf': [1, 2, 4]\n",
    "}"
   ]
  },
  {
   "cell_type": "code",
   "execution_count": 8,
   "id": "c02b4336-215f-448a-b8ba-b37403a5376f",
   "metadata": {},
   "outputs": [
    {
     "data": {
      "text/plain": [
       "GridSearchCV(cv=5, estimator=DecisionTreeClassifier(random_state=42), n_jobs=-1,\n",
       "             param_grid={'max_depth': [3, 5, 10, None],\n",
       "                         'min_samples_leaf': [1, 2, 4],\n",
       "                         'min_samples_split': [2, 5, 10]},\n",
       "             scoring='accuracy')"
      ]
     },
     "execution_count": 8,
     "metadata": {},
     "output_type": "execute_result"
    }
   ],
   "source": [
    "# Perform Grid Search\n",
    "dt_model = DecisionTreeClassifier(random_state=42)\n",
    "grid_search = GridSearchCV(dt_model, param_grid, cv=5, scoring='accuracy', n_jobs=-1)\n",
    "grid_search.fit(X_train, y_train)"
   ]
  },
  {
   "cell_type": "code",
   "execution_count": 9,
   "id": "d5273a4c-b87d-48f6-a42c-6e7d6569f91e",
   "metadata": {},
   "outputs": [],
   "source": [
    "# Best model\n",
    "best_dt_model = grid_search.best_estimator_"
   ]
  },
  {
   "cell_type": "code",
   "execution_count": 10,
   "id": "3e170e6b-4026-4800-890e-876c5d6b87ee",
   "metadata": {},
   "outputs": [
    {
     "name": "stdout",
     "output_type": "stream",
     "text": [
      "Validation Accuracy: 0.9307\n",
      "Validation Classification Report:\n",
      "               precision    recall  f1-score   support\n",
      "\n",
      "           0       0.94      0.99      0.96       455\n",
      "           1       0.89      0.61      0.72        79\n",
      "\n",
      "    accuracy                           0.93       534\n",
      "   macro avg       0.91      0.80      0.84       534\n",
      "weighted avg       0.93      0.93      0.93       534\n",
      "\n"
     ]
    }
   ],
   "source": [
    "# Evaluate on validation set\n",
    "y_val_pred = best_dt_model.predict(X_val)\n",
    "val_accuracy = accuracy_score(y_val, y_val_pred)\n",
    "print(f'Validation Accuracy: {val_accuracy:.4f}')\n",
    "print('Validation Classification Report:\\n', classification_report(y_val, y_val_pred))"
   ]
  },
  {
   "cell_type": "code",
   "execution_count": 11,
   "id": "3e65c2fc-b062-4a81-ac86-24cbd8417d01",
   "metadata": {},
   "outputs": [],
   "source": [
    "# Load test data\n",
    "test_df = pd.read_csv('churn_test.csv')"
   ]
  },
  {
   "cell_type": "code",
   "execution_count": 12,
   "id": "ed634423-9c09-4c90-8013-95f7d2463b15",
   "metadata": {},
   "outputs": [],
   "source": [
    "def preprocess_test_data(df, label_encoders):\n",
    "    df = df.copy()\n",
    "    for col in label_encoders:\n",
    "        df[col] = label_encoders[col].transform(df[col])\n",
    "    return df"
   ]
  },
  {
   "cell_type": "code",
   "execution_count": 13,
   "id": "16a608c1-ee0d-4707-bbca-dd27e8f41480",
   "metadata": {},
   "outputs": [],
   "source": [
    "test_df = preprocess_test_data(test_df, label_encoders)"
   ]
  },
  {
   "cell_type": "code",
   "execution_count": 14,
   "id": "a82010a4-da8e-4b79-ae7e-6391ddee9c23",
   "metadata": {},
   "outputs": [],
   "source": [
    "# Split features and target in test data\n",
    "X_test = test_df.drop(columns=['Churn'])\n",
    "y_test = test_df['Churn']"
   ]
  },
  {
   "cell_type": "code",
   "execution_count": 15,
   "id": "093355f9-7140-4c4d-8ea0-9e798a040730",
   "metadata": {},
   "outputs": [],
   "source": [
    "# Predict using best trained model\n",
    "y_test_pred = best_dt_model.predict(X_test)"
   ]
  },
  {
   "cell_type": "code",
   "execution_count": 16,
   "id": "f9cdc9da-49be-4883-89c4-946631bb6fe5",
   "metadata": {},
   "outputs": [
    {
     "name": "stdout",
     "output_type": "stream",
     "text": [
      "Test Accuracy: 0.9415\n",
      "Test Classification Report:\n",
      "               precision    recall  f1-score   support\n",
      "\n",
      "           0       0.95      0.98      0.97       572\n",
      "           1       0.85      0.72      0.78        95\n",
      "\n",
      "    accuracy                           0.94       667\n",
      "   macro avg       0.90      0.85      0.87       667\n",
      "weighted avg       0.94      0.94      0.94       667\n",
      "\n",
      "Test Confusion Matrix:\n",
      " [[560  12]\n",
      " [ 27  68]]\n"
     ]
    }
   ],
   "source": [
    "# Evaluate model on test data\n",
    "test_accuracy = accuracy_score(y_test, y_test_pred)\n",
    "print(f'Test Accuracy: {test_accuracy:.4f}')\n",
    "print('Test Classification Report:\\n', classification_report(y_test, y_test_pred))\n",
    "print('Test Confusion Matrix:\\n', confusion_matrix(y_test, y_test_pred))"
   ]
  },
  {
   "cell_type": "code",
   "execution_count": null,
   "id": "078423f7-57c5-44d3-9e52-dd7957d35df8",
   "metadata": {},
   "outputs": [],
   "source": []
  }
 ],
 "metadata": {
  "kernelspec": {
   "display_name": "py3",
   "language": "python",
   "name": "py3"
  },
  "language_info": {
   "codemirror_mode": {
    "name": "ipython",
    "version": 3
   },
   "file_extension": ".py",
   "mimetype": "text/x-python",
   "name": "python",
   "nbconvert_exporter": "python",
   "pygments_lexer": "ipython3",
   "version": "3.10.2"
  }
 },
 "nbformat": 4,
 "nbformat_minor": 5
}
